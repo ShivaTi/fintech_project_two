{
 "cells": [
  {
   "cell_type": "code",
   "execution_count": null,
   "metadata": {},
   "outputs": [],
   "source": [
    "# Import libraries\n",
    "from panel.interact import interact_manual\n",
    "import panel as pn\n",
    "\n",
    "# Import self-made functiions\n",
    "from process_data import function_random_forest\n",
    "from build_dashboard import function2\n",
    "\n",
    "# Analyse the correlation between the chosen entrepreneur and stock/crypto\n",
    "def analyse(entrepreneur, ticker):\n",
    "    # Process the data\n",
    "    plot1, plot2, plot3, plot4, plot5, plot6, plot7, table1, table2, table3 = function_random_forest()\n",
    "\n",
    "    # Create a dashboard to visualise the data\n",
    "    dashboard = function2(plot1, plot2, plot3, table1, table2, table3, entrepreneur, ticker)\n",
    "\n",
    "    # Return the dashboard\n",
    "    return dashboard\n",
    "\n",
    "# Make interactive drop-down lists which users can choose an entrepreneur and stock/crypto from\n",
    "user_input = interact_manual(\n",
    "                                analyse, \n",
    "                                entrepreneur=['Elon Musk'], \n",
    "                                ticker=['Bitcoin', 'Dogecoin']\n",
    "                            )\n",
    "\n",
    "# Make the interface for the app\n",
    "interface = pn.Column(\n",
    "                        '## Analyse the correlation between your chosen entrepreneur and stock/crypto',\n",
    "                        '### Feel free to add whatever you want to display here : )', \n",
    "                        user_input\n",
    "                    )\n",
    "\n",
    "# Launch the app in browser\n",
    "interface.show()"
   ]
  },
  {
   "cell_type": "code",
   "execution_count": null,
   "metadata": {},
   "outputs": [],
   "source": []
  }
 ],
 "metadata": {
  "kernelspec": {
   "display_name": "Python 3",
   "language": "python",
   "name": "python3"
  },
  "language_info": {
   "codemirror_mode": {
    "name": "ipython",
    "version": 3
   },
   "file_extension": ".py",
   "mimetype": "text/x-python",
   "name": "python",
   "nbconvert_exporter": "python",
   "pygments_lexer": "ipython3",
   "version": "3.7.9"
  }
 },
 "nbformat": 4,
 "nbformat_minor": 4
}
