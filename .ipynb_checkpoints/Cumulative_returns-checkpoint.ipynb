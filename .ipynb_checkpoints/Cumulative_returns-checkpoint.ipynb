{
 "cells": [
  {
   "cell_type": "code",
   "execution_count": 1,
   "metadata": {},
   "outputs": [],
   "source": [
    "#Cumulative returns curve of the chosen stock/crypto-ST"
   ]
  },
  {
   "cell_type": "code",
   "execution_count": 2,
   "metadata": {},
   "outputs": [],
   "source": [
    "from fetch_data import fetch_data"
   ]
  },
  {
   "cell_type": "code",
   "execution_count": 3,
   "metadata": {},
   "outputs": [
    {
     "data": {
      "text/html": [
       "<div>\n",
       "<style scoped>\n",
       "    .dataframe tbody tr th:only-of-type {\n",
       "        vertical-align: middle;\n",
       "    }\n",
       "\n",
       "    .dataframe tbody tr th {\n",
       "        vertical-align: top;\n",
       "    }\n",
       "\n",
       "    .dataframe thead th {\n",
       "        text-align: right;\n",
       "    }\n",
       "</style>\n",
       "<table border=\"1\" class=\"dataframe\">\n",
       "  <thead>\n",
       "    <tr style=\"text-align: right;\">\n",
       "      <th></th>\n",
       "      <th>elon_text</th>\n",
       "      <th>Dogecoin_Price</th>\n",
       "    </tr>\n",
       "    <tr>\n",
       "      <th>Time</th>\n",
       "      <th></th>\n",
       "      <th></th>\n",
       "    </tr>\n",
       "  </thead>\n",
       "  <tbody>\n",
       "    <tr>\n",
       "      <th>2020-06-18 12:00:00</th>\n",
       "      <td>[]</td>\n",
       "      <td>0.002453</td>\n",
       "    </tr>\n",
       "    <tr>\n",
       "      <th>2020-06-18 13:00:00</th>\n",
       "      <td>[@MichaelaOkla Comes standard with Cybertruck]</td>\n",
       "      <td>0.002487</td>\n",
       "    </tr>\n",
       "    <tr>\n",
       "      <th>2020-06-18 14:00:00</th>\n",
       "      <td>[]</td>\n",
       "      <td>0.002505</td>\n",
       "    </tr>\n",
       "    <tr>\n",
       "      <th>2020-06-18 15:00:00</th>\n",
       "      <td>[]</td>\n",
       "      <td>0.002516</td>\n",
       "    </tr>\n",
       "    <tr>\n",
       "      <th>2020-06-18 16:00:00</th>\n",
       "      <td>[]</td>\n",
       "      <td>0.002478</td>\n",
       "    </tr>\n",
       "    <tr>\n",
       "      <th>...</th>\n",
       "      <td>...</td>\n",
       "      <td>...</td>\n",
       "    </tr>\n",
       "    <tr>\n",
       "      <th>2021-02-23 08:00:00</th>\n",
       "      <td>[@PeterSchiff 🍆, @PPathole Super cool]</td>\n",
       "      <td>0.046890</td>\n",
       "    </tr>\n",
       "    <tr>\n",
       "      <th>2021-02-23 09:00:00</th>\n",
       "      <td>[]</td>\n",
       "      <td>0.047160</td>\n",
       "    </tr>\n",
       "    <tr>\n",
       "      <th>2021-02-23 10:00:00</th>\n",
       "      <td>[]</td>\n",
       "      <td>0.046030</td>\n",
       "    </tr>\n",
       "    <tr>\n",
       "      <th>2021-02-23 11:00:00</th>\n",
       "      <td>[]</td>\n",
       "      <td>0.044350</td>\n",
       "    </tr>\n",
       "    <tr>\n",
       "      <th>2021-02-23 12:00:00</th>\n",
       "      <td>[]</td>\n",
       "      <td>0.046400</td>\n",
       "    </tr>\n",
       "  </tbody>\n",
       "</table>\n",
       "<p>6002 rows × 2 columns</p>\n",
       "</div>"
      ],
      "text/plain": [
       "                                                          elon_text  \\\n",
       "Time                                                                  \n",
       "2020-06-18 12:00:00                                              []   \n",
       "2020-06-18 13:00:00  [@MichaelaOkla Comes standard with Cybertruck]   \n",
       "2020-06-18 14:00:00                                              []   \n",
       "2020-06-18 15:00:00                                              []   \n",
       "2020-06-18 16:00:00                                              []   \n",
       "...                                                             ...   \n",
       "2021-02-23 08:00:00          [@PeterSchiff 🍆, @PPathole Super cool]   \n",
       "2021-02-23 09:00:00                                              []   \n",
       "2021-02-23 10:00:00                                              []   \n",
       "2021-02-23 11:00:00                                              []   \n",
       "2021-02-23 12:00:00                                              []   \n",
       "\n",
       "                     Dogecoin_Price  \n",
       "Time                                 \n",
       "2020-06-18 12:00:00        0.002453  \n",
       "2020-06-18 13:00:00        0.002487  \n",
       "2020-06-18 14:00:00        0.002505  \n",
       "2020-06-18 15:00:00        0.002516  \n",
       "2020-06-18 16:00:00        0.002478  \n",
       "...                             ...  \n",
       "2021-02-23 08:00:00        0.046890  \n",
       "2021-02-23 09:00:00        0.047160  \n",
       "2021-02-23 10:00:00        0.046030  \n",
       "2021-02-23 11:00:00        0.044350  \n",
       "2021-02-23 12:00:00        0.046400  \n",
       "\n",
       "[6002 rows x 2 columns]"
      ]
     },
     "execution_count": 3,
     "metadata": {},
     "output_type": "execute_result"
    }
   ],
   "source": [
    "df1=fetch_data('Elon Musk','Dogecoin')\n",
    "df1 =df1.rename(columns={\"Elon Musk's Tweet\": \"elon_text\", \"Dogecoin Price\": \"Dogecoin_Price\"})\n",
    "df1"
   ]
  },
  {
   "cell_type": "code",
   "execution_count": 5,
   "metadata": {},
   "outputs": [
    {
     "data": {
      "text/html": [
       "<div>\n",
       "<style scoped>\n",
       "    .dataframe tbody tr th:only-of-type {\n",
       "        vertical-align: middle;\n",
       "    }\n",
       "\n",
       "    .dataframe tbody tr th {\n",
       "        vertical-align: top;\n",
       "    }\n",
       "\n",
       "    .dataframe thead th {\n",
       "        text-align: right;\n",
       "    }\n",
       "</style>\n",
       "<table border=\"1\" class=\"dataframe\">\n",
       "  <thead>\n",
       "    <tr style=\"text-align: right;\">\n",
       "      <th></th>\n",
       "      <th>elon_text</th>\n",
       "      <th>Bitcoin_Price</th>\n",
       "    </tr>\n",
       "    <tr>\n",
       "      <th>Time</th>\n",
       "      <th></th>\n",
       "      <th></th>\n",
       "    </tr>\n",
       "  </thead>\n",
       "  <tbody>\n",
       "    <tr>\n",
       "      <th>2020-09-09 20:00:00</th>\n",
       "      <td>[@Klee_FilmReview !]</td>\n",
       "      <td>10263.46</td>\n",
       "    </tr>\n",
       "    <tr>\n",
       "      <th>2020-09-09 21:00:00</th>\n",
       "      <td>[Tesla Model S &amp;amp; X have hospital-grade (HE...</td>\n",
       "      <td>10245.96</td>\n",
       "    </tr>\n",
       "    <tr>\n",
       "      <th>2020-09-09 22:00:00</th>\n",
       "      <td>[]</td>\n",
       "      <td>10282.35</td>\n",
       "    </tr>\n",
       "    <tr>\n",
       "      <th>2020-09-09 23:00:00</th>\n",
       "      <td>[]</td>\n",
       "      <td>10228.85</td>\n",
       "    </tr>\n",
       "    <tr>\n",
       "      <th>2020-09-10 00:00:00</th>\n",
       "      <td>[]</td>\n",
       "      <td>10279.37</td>\n",
       "    </tr>\n",
       "    <tr>\n",
       "      <th>...</th>\n",
       "      <td>...</td>\n",
       "      <td>...</td>\n",
       "    </tr>\n",
       "    <tr>\n",
       "      <th>2021-02-23 08:00:00</th>\n",
       "      <td>[@PeterSchiff 🍆, @PPathole Super cool]</td>\n",
       "      <td>46618.38</td>\n",
       "    </tr>\n",
       "    <tr>\n",
       "      <th>2021-02-23 09:00:00</th>\n",
       "      <td>[]</td>\n",
       "      <td>48046.76</td>\n",
       "    </tr>\n",
       "    <tr>\n",
       "      <th>2021-02-23 10:00:00</th>\n",
       "      <td>[]</td>\n",
       "      <td>47484.88</td>\n",
       "    </tr>\n",
       "    <tr>\n",
       "      <th>2021-02-23 11:00:00</th>\n",
       "      <td>[]</td>\n",
       "      <td>46395.18</td>\n",
       "    </tr>\n",
       "    <tr>\n",
       "      <th>2021-02-23 12:00:00</th>\n",
       "      <td>[]</td>\n",
       "      <td>48996.08</td>\n",
       "    </tr>\n",
       "  </tbody>\n",
       "</table>\n",
       "<p>4002 rows × 2 columns</p>\n",
       "</div>"
      ],
      "text/plain": [
       "                                                             elon_text  \\\n",
       "Time                                                                     \n",
       "2020-09-09 20:00:00                               [@Klee_FilmReview !]   \n",
       "2020-09-09 21:00:00  [Tesla Model S &amp; X have hospital-grade (HE...   \n",
       "2020-09-09 22:00:00                                                 []   \n",
       "2020-09-09 23:00:00                                                 []   \n",
       "2020-09-10 00:00:00                                                 []   \n",
       "...                                                                ...   \n",
       "2021-02-23 08:00:00             [@PeterSchiff 🍆, @PPathole Super cool]   \n",
       "2021-02-23 09:00:00                                                 []   \n",
       "2021-02-23 10:00:00                                                 []   \n",
       "2021-02-23 11:00:00                                                 []   \n",
       "2021-02-23 12:00:00                                                 []   \n",
       "\n",
       "                     Bitcoin_Price  \n",
       "Time                                \n",
       "2020-09-09 20:00:00       10263.46  \n",
       "2020-09-09 21:00:00       10245.96  \n",
       "2020-09-09 22:00:00       10282.35  \n",
       "2020-09-09 23:00:00       10228.85  \n",
       "2020-09-10 00:00:00       10279.37  \n",
       "...                            ...  \n",
       "2021-02-23 08:00:00       46618.38  \n",
       "2021-02-23 09:00:00       48046.76  \n",
       "2021-02-23 10:00:00       47484.88  \n",
       "2021-02-23 11:00:00       46395.18  \n",
       "2021-02-23 12:00:00       48996.08  \n",
       "\n",
       "[4002 rows x 2 columns]"
      ]
     },
     "execution_count": 5,
     "metadata": {},
     "output_type": "execute_result"
    }
   ],
   "source": [
    "df2 =fetch_data('Elon Musk','Bitcoin')\n",
    "df2 =df2.rename(columns={\"Elon Musk's Tweet\": \"elon_text\", \"Bitcoin Price\": \"Bitcoin_Price\"})\n",
    "df2"
   ]
  },
  {
   "cell_type": "code",
   "execution_count": 46,
   "metadata": {},
   "outputs": [
    {
     "data": {
      "text/html": [
       "<div>\n",
       "<style scoped>\n",
       "    .dataframe tbody tr th:only-of-type {\n",
       "        vertical-align: middle;\n",
       "    }\n",
       "\n",
       "    .dataframe tbody tr th {\n",
       "        vertical-align: top;\n",
       "    }\n",
       "\n",
       "    .dataframe thead th {\n",
       "        text-align: right;\n",
       "    }\n",
       "</style>\n",
       "<table border=\"1\" class=\"dataframe\">\n",
       "  <thead>\n",
       "    <tr style=\"text-align: right;\">\n",
       "      <th></th>\n",
       "      <th>Dogecoin_Price</th>\n",
       "      <th>Bitcoin_Price</th>\n",
       "    </tr>\n",
       "  </thead>\n",
       "  <tbody>\n",
       "    <tr>\n",
       "      <th>0</th>\n",
       "      <td>0.002453</td>\n",
       "      <td>NaN</td>\n",
       "    </tr>\n",
       "    <tr>\n",
       "      <th>1</th>\n",
       "      <td>0.002487</td>\n",
       "      <td>NaN</td>\n",
       "    </tr>\n",
       "    <tr>\n",
       "      <th>2</th>\n",
       "      <td>0.002505</td>\n",
       "      <td>NaN</td>\n",
       "    </tr>\n",
       "    <tr>\n",
       "      <th>3</th>\n",
       "      <td>0.002516</td>\n",
       "      <td>NaN</td>\n",
       "    </tr>\n",
       "    <tr>\n",
       "      <th>4</th>\n",
       "      <td>0.002478</td>\n",
       "      <td>NaN</td>\n",
       "    </tr>\n",
       "  </tbody>\n",
       "</table>\n",
       "</div>"
      ],
      "text/plain": [
       "   Dogecoin_Price  Bitcoin_Price\n",
       "0        0.002453            NaN\n",
       "1        0.002487            NaN\n",
       "2        0.002505            NaN\n",
       "3        0.002516            NaN\n",
       "4        0.002478            NaN"
      ]
     },
     "execution_count": 46,
     "metadata": {},
     "output_type": "execute_result"
    }
   ],
   "source": [
    "combined_df = pd.concat([df1, df2], ignore_index=True).drop(columns=['elon_text'])\n",
    "combined_df.head()"
   ]
  },
  {
   "cell_type": "code",
   "execution_count": 42,
   "metadata": {},
   "outputs": [],
   "source": [
    "#First lets load the library.\n",
    "import pandas as pd\n",
    "import numpy as np\n",
    "import matplotlib.pyplot as plt\n"
   ]
  },
  {
   "cell_type": "code",
   "execution_count": 33,
   "metadata": {},
   "outputs": [],
   "source": [
    "# crypto weights\n",
    "wts = [0.1,0.2]  # need to confirm"
   ]
  },
  {
   "cell_type": "code",
   "execution_count": 32,
   "metadata": {},
   "outputs": [],
   "source": [
    "#Next we will calculate the daily returns for our assets.\n",
    "ret_data = combined_df.pct_change()[1:]"
   ]
  },
  {
   "cell_type": "code",
   "execution_count": 34,
   "metadata": {},
   "outputs": [
    {
     "name": "stdout",
     "output_type": "stream",
     "text": [
      "   Dogecoin_Price  Bitcoin_Price\n",
      "1        0.001386            NaN\n",
      "2        0.000724            NaN\n",
      "3        0.000439            NaN\n",
      "4       -0.001510            NaN\n",
      "5        0.001170            NaN\n"
     ]
    }
   ],
   "source": [
    "#We will then calculate the weighted average of our crypto returns.\n",
    "weighted_returns = (wts * ret_data)\n",
    "print(weighted_returns.head())"
   ]
  },
  {
   "cell_type": "code",
   "execution_count": 35,
   "metadata": {},
   "outputs": [],
   "source": [
    "#Finally the portfolio returns are the sum of the weighted returns.\n",
    "port_ret = weighted_returns.sum(axis=1)\n",
    "# axis =1 tells pandas we want to add\n",
    "# the rows"
   ]
  },
  {
   "cell_type": "code",
   "execution_count": 36,
   "metadata": {},
   "outputs": [],
   "source": [
    "#To calculate cumulative returns we need to use the cumprod() function.\n",
    "cumulative_ret = (port_ret + 1).cumprod()"
   ]
  },
  {
   "cell_type": "code",
   "execution_count": 41,
   "metadata": {},
   "outputs": [
    {
     "data": {
      "image/png": "[encoded data removed]",
      "text/plain": [
       "<Figure size 720x720 with 1 Axes>"
      ]
     },
     "metadata": {
      "needs_background": "light"
     },
     "output_type": "display_data"
    }
   ],
   "source": [
    "#Lastly we will plot our portfolios cumulative returns.\n",
    "fig = plt.figure(figsize=(10,10))\n",
    "ax1 = fig.add_axes([0.1,0.1,0.8,0.8])\n",
    "ax1.plot(cumulative_ret)\n",
    "#ax1.set_xlabel('Date')\n",
    "ax1.set_ylabel(\"Cumulative Returns\")\n",
    "ax1.set_title(\"Portfolio Cumulative Returns\")\n",
    "plt.show();\n",
    "\n",
    "\n"
   ]
  },
  {
   "cell_type": "code",
   "execution_count": null,
   "metadata": {},
   "outputs": [],
   "source": []
  }
 ],
 "metadata": {
  "kernelspec": {
   "display_name": "Python [conda env:alpacaenv]",
   "language": "python",
   "name": "conda-env-alpacaenv-py"
  },
  "language_info": {
   "codemirror_mode": {
    "name": "ipython",
    "version": 3
   },
   "file_extension": ".py",
   "mimetype": "text/x-python",
   "name": "python",
   "nbconvert_exporter": "python",
   "pygments_lexer": "ipython3",
   "version": "3.7.9"
  }
 },
 "nbformat": 4,
 "nbformat_minor": 4
}
