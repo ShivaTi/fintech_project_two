{
 "cells": [
  {
   "cell_type": "code",
   "execution_count": 83,
   "metadata": {},
   "outputs": [],
   "source": [
    "# Load the data\n",
    "\n",
    "# Make a DataFrame, index: time in hour; column1: a list of all tweets; column2: price\n",
    "\n",
    "# Create column3 that contains how many times the crypto is mentioned. \n",
    "# Refer to Week 12, Day 1, 08-Stu_Counter to convert a list of strs to a list of words, then count mentions from there.\n",
    "\n",
    "# Re-order the columns, column1: a list of all tweets; column2: mentions; column3: price.\n",
    "\n",
    "# Shift DataFrame values by 1.\n",
    "# Refer to Week 15, Day 3, 02-Ins_Random_Forest_Training\n",
    "\n",
    "# Construct the dependent variable where if daily return is greater than 0, then 1, else, 0.\n",
    "\n",
    "# ...\n"
   ]
  },
  {
   "cell_type": "code",
   "execution_count": 84,
   "metadata": {},
   "outputs": [],
   "source": [
    "import pandas as pd"
   ]
  },
  {
   "cell_type": "code",
   "execution_count": 85,
   "metadata": {},
   "outputs": [
    {
     "data": {
      "text/html": "<div>\n<style scoped>\n    .dataframe tbody tr th:only-of-type {\n        vertical-align: middle;\n    }\n\n    .dataframe tbody tr th {\n        vertical-align: top;\n    }\n\n    .dataframe thead th {\n        text-align: right;\n    }\n</style>\n<table border=\"1\" class=\"dataframe\">\n  <thead>\n    <tr style=\"text-align: right;\">\n      <th></th>\n      <th>created_at</th>\n      <th>id</th>\n      <th>text</th>\n      <th>author_id</th>\n    </tr>\n  </thead>\n  <tbody>\n    <tr>\n      <th>0</th>\n      <td>2021-02-23T08:20:41.000Z</td>\n      <td>1364128031434887170</td>\n      <td>@PeterSchiff 🍆</td>\n      <td>44196397</td>\n    </tr>\n    <tr>\n      <th>1</th>\n      <td>2021-02-23T08:18:12.000Z</td>\n      <td>1364127406689193986</td>\n      <td>@PPathole Super cool</td>\n      <td>44196397</td>\n    </tr>\n    <tr>\n      <th>2</th>\n      <td>2021-02-22T23:25:09.000Z</td>\n      <td>1363993259756945410</td>\n      <td>@jgrano305 @AustinTeslaClub We have too much p...</td>\n      <td>44196397</td>\n    </tr>\n    <tr>\n      <th>3</th>\n      <td>2021-02-22T20:22:10.000Z</td>\n      <td>1363947211277496320</td>\n      <td>@TechAmazing @UniverCurious Tunnels!!</td>\n      <td>44196397</td>\n    </tr>\n    <tr>\n      <th>4</th>\n      <td>2021-02-22T20:21:15.000Z</td>\n      <td>1363946979005399040</td>\n      <td>@JantieWillie @Adamklotz_ @AustinTeslaClub Hop...</td>\n      <td>44196397</td>\n    </tr>\n    <tr>\n      <th>...</th>\n      <td>...</td>\n      <td>...</td>\n      <td>...</td>\n      <td>...</td>\n    </tr>\n    <tr>\n      <th>2</th>\n      <td>2020-04-10T07:42:17.000Z</td>\n      <td>1248516638284095489</td>\n      <td>@nichegamer 🤣🤣</td>\n      <td>44196397</td>\n    </tr>\n    <tr>\n      <th>3</th>\n      <td>2020-04-10T07:39:10.000Z</td>\n      <td>1248515852653211648</td>\n      <td>But actually https://t.co/jlowaHobXO</td>\n      <td>44196397</td>\n    </tr>\n    <tr>\n      <th>4</th>\n      <td>2020-04-10T00:23:11.000Z</td>\n      <td>1248406132957167621</td>\n      <td>@arvnp @Jamie_Woodward_ The Standard Model is ...</td>\n      <td>44196397</td>\n    </tr>\n    <tr>\n      <th>5</th>\n      <td>2020-04-10T00:04:04.000Z</td>\n      <td>1248401323587825667</td>\n      <td>@Jamie_Woodward_ … is bs</td>\n      <td>44196397</td>\n    </tr>\n    <tr>\n      <th>6</th>\n      <td>2020-04-09T22:58:40.000Z</td>\n      <td>1248384865872928772</td>\n      <td>@Jamie_Woodward_ String theory</td>\n      <td>44196397</td>\n    </tr>\n  </tbody>\n</table>\n<p>3206 rows × 4 columns</p>\n</div>",
      "text/plain": "                  created_at                   id  \\\n0   2021-02-23T08:20:41.000Z  1364128031434887170   \n1   2021-02-23T08:18:12.000Z  1364127406689193986   \n2   2021-02-22T23:25:09.000Z  1363993259756945410   \n3   2021-02-22T20:22:10.000Z  1363947211277496320   \n4   2021-02-22T20:21:15.000Z  1363946979005399040   \n..                       ...                  ...   \n2   2020-04-10T07:42:17.000Z  1248516638284095489   \n3   2020-04-10T07:39:10.000Z  1248515852653211648   \n4   2020-04-10T00:23:11.000Z  1248406132957167621   \n5   2020-04-10T00:04:04.000Z  1248401323587825667   \n6   2020-04-09T22:58:40.000Z  1248384865872928772   \n\n                                                 text author_id  \n0                                      @PeterSchiff 🍆  44196397  \n1                                @PPathole Super cool  44196397  \n2   @jgrano305 @AustinTeslaClub We have too much p...  44196397  \n3               @TechAmazing @UniverCurious Tunnels!!  44196397  \n4   @JantieWillie @Adamklotz_ @AustinTeslaClub Hop...  44196397  \n..                                                ...       ...  \n2                                      @nichegamer 🤣🤣  44196397  \n3                But actually https://t.co/jlowaHobXO  44196397  \n4   @arvnp @Jamie_Woodward_ The Standard Model is ...  44196397  \n5                            @Jamie_Woodward_ … is bs  44196397  \n6                      @Jamie_Woodward_ String theory  44196397  \n\n[3206 rows x 4 columns]"
     },
     "execution_count": 85,
     "metadata": {},
     "output_type": "execute_result"
    }
   ],
   "source": [
    "tweet = pd.read_pickle('./retrieve/twitter/TWEETDUMP/twitter_elon_all_df')\n",
    "tweet"
   ]
  },
  {
   "cell_type": "code",
   "execution_count": 86,
   "metadata": {},
   "outputs": [
    {
     "data": {
      "text/html": "<div>\n<style scoped>\n    .dataframe tbody tr th:only-of-type {\n        vertical-align: middle;\n    }\n\n    .dataframe tbody tr th {\n        vertical-align: top;\n    }\n\n    .dataframe thead th {\n        text-align: right;\n    }\n</style>\n<table border=\"1\" class=\"dataframe\">\n  <thead>\n    <tr style=\"text-align: right;\">\n      <th></th>\n      <th>time</th>\n      <th>high</th>\n      <th>low</th>\n      <th>open</th>\n      <th>volumefrom</th>\n      <th>volumeto</th>\n      <th>close</th>\n      <th>conversionType</th>\n      <th>conversionSymbol</th>\n      <th>timestamp</th>\n      <th>iteration</th>\n      <th>time_convert</th>\n      <th>coin_symbol</th>\n    </tr>\n  </thead>\n  <tbody>\n    <tr>\n      <th>0</th>\n      <td>1606881600</td>\n      <td>18703.87</td>\n      <td>18350.00</td>\n      <td>18621.80</td>\n      <td>3410.25</td>\n      <td>63019742.87</td>\n      <td>18559.38</td>\n      <td>direct</td>\n      <td></td>\n      <td>2021-02-23 23:55:14.992641</td>\n      <td>0</td>\n      <td>2020-12-02 04:00:00</td>\n      <td>BTC</td>\n    </tr>\n    <tr>\n      <th>1</th>\n      <td>1606885200</td>\n      <td>18665.00</td>\n      <td>18481.75</td>\n      <td>18559.38</td>\n      <td>1532.91</td>\n      <td>28467746.52</td>\n      <td>18664.77</td>\n      <td>direct</td>\n      <td></td>\n      <td>2021-02-23 23:55:14.992641</td>\n      <td>0</td>\n      <td>2020-12-02 05:00:00</td>\n      <td>BTC</td>\n    </tr>\n    <tr>\n      <th>2</th>\n      <td>1606888800</td>\n      <td>18946.70</td>\n      <td>18649.23</td>\n      <td>18664.77</td>\n      <td>1922.03</td>\n      <td>36120973.84</td>\n      <td>18941.28</td>\n      <td>direct</td>\n      <td></td>\n      <td>2021-02-23 23:55:14.992641</td>\n      <td>0</td>\n      <td>2020-12-02 06:00:00</td>\n      <td>BTC</td>\n    </tr>\n    <tr>\n      <th>3</th>\n      <td>1606892400</td>\n      <td>19129.07</td>\n      <td>18846.72</td>\n      <td>18941.28</td>\n      <td>2212.26</td>\n      <td>41920062.44</td>\n      <td>19127.00</td>\n      <td>direct</td>\n      <td></td>\n      <td>2021-02-23 23:55:14.992641</td>\n      <td>0</td>\n      <td>2020-12-02 07:00:00</td>\n      <td>BTC</td>\n    </tr>\n    <tr>\n      <th>4</th>\n      <td>1606896000</td>\n      <td>19337.16</td>\n      <td>19075.66</td>\n      <td>19127.00</td>\n      <td>2774.43</td>\n      <td>53331491.04</td>\n      <td>19196.49</td>\n      <td>direct</td>\n      <td></td>\n      <td>2021-02-23 23:55:14.992641</td>\n      <td>0</td>\n      <td>2020-12-02 08:00:00</td>\n      <td>BTC</td>\n    </tr>\n    <tr>\n      <th>...</th>\n      <td>...</td>\n      <td>...</td>\n      <td>...</td>\n      <td>...</td>\n      <td>...</td>\n      <td>...</td>\n      <td>...</td>\n      <td>...</td>\n      <td>...</td>\n      <td>...</td>\n      <td>...</td>\n      <td>...</td>\n      <td>...</td>\n    </tr>\n    <tr>\n      <th>1996</th>\n      <td>1542067200</td>\n      <td>0.00</td>\n      <td>0.00</td>\n      <td>0.00</td>\n      <td>0.00</td>\n      <td>0.00</td>\n      <td>0.00</td>\n      <td>direct</td>\n      <td></td>\n      <td>2021-02-23 23:56:42.766721</td>\n      <td>19</td>\n      <td>2018-11-13 00:00:00</td>\n      <td>ALGO</td>\n    </tr>\n    <tr>\n      <th>1997</th>\n      <td>1542070800</td>\n      <td>0.00</td>\n      <td>0.00</td>\n      <td>0.00</td>\n      <td>0.00</td>\n      <td>0.00</td>\n      <td>0.00</td>\n      <td>direct</td>\n      <td></td>\n      <td>2021-02-23 23:56:42.766721</td>\n      <td>19</td>\n      <td>2018-11-13 01:00:00</td>\n      <td>ALGO</td>\n    </tr>\n    <tr>\n      <th>1998</th>\n      <td>1542074400</td>\n      <td>0.00</td>\n      <td>0.00</td>\n      <td>0.00</td>\n      <td>0.00</td>\n      <td>0.00</td>\n      <td>0.00</td>\n      <td>direct</td>\n      <td></td>\n      <td>2021-02-23 23:56:42.766721</td>\n      <td>19</td>\n      <td>2018-11-13 02:00:00</td>\n      <td>ALGO</td>\n    </tr>\n    <tr>\n      <th>1999</th>\n      <td>1542078000</td>\n      <td>0.00</td>\n      <td>0.00</td>\n      <td>0.00</td>\n      <td>0.00</td>\n      <td>0.00</td>\n      <td>0.00</td>\n      <td>direct</td>\n      <td></td>\n      <td>2021-02-23 23:56:42.766721</td>\n      <td>19</td>\n      <td>2018-11-13 03:00:00</td>\n      <td>ALGO</td>\n    </tr>\n    <tr>\n      <th>2000</th>\n      <td>1542081600</td>\n      <td>0.00</td>\n      <td>0.00</td>\n      <td>0.00</td>\n      <td>0.00</td>\n      <td>0.00</td>\n      <td>0.00</td>\n      <td>direct</td>\n      <td></td>\n      <td>2021-02-23 23:56:42.766721</td>\n      <td>19</td>\n      <td>2018-11-13 04:00:00</td>\n      <td>ALGO</td>\n    </tr>\n  </tbody>\n</table>\n<p>40020 rows × 13 columns</p>\n</div>",
      "text/plain": "            time      high       low      open  volumefrom     volumeto  \\\n0     1606881600  18703.87  18350.00  18621.80     3410.25  63019742.87   \n1     1606885200  18665.00  18481.75  18559.38     1532.91  28467746.52   \n2     1606888800  18946.70  18649.23  18664.77     1922.03  36120973.84   \n3     1606892400  19129.07  18846.72  18941.28     2212.26  41920062.44   \n4     1606896000  19337.16  19075.66  19127.00     2774.43  53331491.04   \n...          ...       ...       ...       ...         ...          ...   \n1996  1542067200      0.00      0.00      0.00        0.00         0.00   \n1997  1542070800      0.00      0.00      0.00        0.00         0.00   \n1998  1542074400      0.00      0.00      0.00        0.00         0.00   \n1999  1542078000      0.00      0.00      0.00        0.00         0.00   \n2000  1542081600      0.00      0.00      0.00        0.00         0.00   \n\n         close conversionType conversionSymbol                  timestamp  \\\n0     18559.38         direct                  2021-02-23 23:55:14.992641   \n1     18664.77         direct                  2021-02-23 23:55:14.992641   \n2     18941.28         direct                  2021-02-23 23:55:14.992641   \n3     19127.00         direct                  2021-02-23 23:55:14.992641   \n4     19196.49         direct                  2021-02-23 23:55:14.992641   \n...        ...            ...              ...                        ...   \n1996      0.00         direct                  2021-02-23 23:56:42.766721   \n1997      0.00         direct                  2021-02-23 23:56:42.766721   \n1998      0.00         direct                  2021-02-23 23:56:42.766721   \n1999      0.00         direct                  2021-02-23 23:56:42.766721   \n2000      0.00         direct                  2021-02-23 23:56:42.766721   \n\n      iteration        time_convert coin_symbol  \n0             0 2020-12-02 04:00:00         BTC  \n1             0 2020-12-02 05:00:00         BTC  \n2             0 2020-12-02 06:00:00         BTC  \n3             0 2020-12-02 07:00:00         BTC  \n4             0 2020-12-02 08:00:00         BTC  \n...         ...                 ...         ...  \n1996         19 2018-11-13 00:00:00        ALGO  \n1997         19 2018-11-13 01:00:00        ALGO  \n1998         19 2018-11-13 02:00:00        ALGO  \n1999         19 2018-11-13 03:00:00        ALGO  \n2000         19 2018-11-13 04:00:00        ALGO  \n\n[40020 rows x 13 columns]"
     },
     "execution_count": 86,
     "metadata": {},
     "output_type": "execute_result"
    }
   ],
   "source": [
    "price = pd.read_pickle('./retrieve/cryptocompare/CRYPTODUMP/hourlyhist_crypto_compare_api_v1_df')\n",
    "price"
   ]
  },
  {
   "cell_type": "code",
   "execution_count": 87,
   "metadata": {},
   "outputs": [
    {
     "data": {
      "text/html": "<div>\n<style scoped>\n    .dataframe tbody tr th:only-of-type {\n        vertical-align: middle;\n    }\n\n    .dataframe tbody tr th {\n        vertical-align: top;\n    }\n\n    .dataframe thead th {\n        text-align: right;\n    }\n</style>\n<table border=\"1\" class=\"dataframe\">\n  <thead>\n    <tr style=\"text-align: right;\">\n      <th></th>\n      <th>time</th>\n      <th>high</th>\n      <th>low</th>\n      <th>open</th>\n      <th>volumefrom</th>\n      <th>volumeto</th>\n      <th>close</th>\n      <th>conversionType</th>\n      <th>conversionSymbol</th>\n      <th>timestamp</th>\n      <th>iteration</th>\n      <th>time_convert</th>\n      <th>coin_symbol</th>\n    </tr>\n  </thead>\n  <tbody>\n    <tr>\n      <th>0</th>\n      <td>1606881600</td>\n      <td>18703.87</td>\n      <td>18350.00</td>\n      <td>18621.80</td>\n      <td>3410.25</td>\n      <td>63019742.87</td>\n      <td>18559.38</td>\n      <td>direct</td>\n      <td></td>\n      <td>2021-02-23 23:55:14.992641</td>\n      <td>0</td>\n      <td>2020-12-02 04:00:00</td>\n      <td>BTC</td>\n    </tr>\n    <tr>\n      <th>1</th>\n      <td>1606885200</td>\n      <td>18665.00</td>\n      <td>18481.75</td>\n      <td>18559.38</td>\n      <td>1532.91</td>\n      <td>28467746.52</td>\n      <td>18664.77</td>\n      <td>direct</td>\n      <td></td>\n      <td>2021-02-23 23:55:14.992641</td>\n      <td>0</td>\n      <td>2020-12-02 05:00:00</td>\n      <td>BTC</td>\n    </tr>\n    <tr>\n      <th>2</th>\n      <td>1606888800</td>\n      <td>18946.70</td>\n      <td>18649.23</td>\n      <td>18664.77</td>\n      <td>1922.03</td>\n      <td>36120973.84</td>\n      <td>18941.28</td>\n      <td>direct</td>\n      <td></td>\n      <td>2021-02-23 23:55:14.992641</td>\n      <td>0</td>\n      <td>2020-12-02 06:00:00</td>\n      <td>BTC</td>\n    </tr>\n    <tr>\n      <th>3</th>\n      <td>1606892400</td>\n      <td>19129.07</td>\n      <td>18846.72</td>\n      <td>18941.28</td>\n      <td>2212.26</td>\n      <td>41920062.44</td>\n      <td>19127.00</td>\n      <td>direct</td>\n      <td></td>\n      <td>2021-02-23 23:55:14.992641</td>\n      <td>0</td>\n      <td>2020-12-02 07:00:00</td>\n      <td>BTC</td>\n    </tr>\n    <tr>\n      <th>4</th>\n      <td>1606896000</td>\n      <td>19337.16</td>\n      <td>19075.66</td>\n      <td>19127.00</td>\n      <td>2774.43</td>\n      <td>53331491.04</td>\n      <td>19196.49</td>\n      <td>direct</td>\n      <td></td>\n      <td>2021-02-23 23:55:14.992641</td>\n      <td>0</td>\n      <td>2020-12-02 08:00:00</td>\n      <td>BTC</td>\n    </tr>\n    <tr>\n      <th>...</th>\n      <td>...</td>\n      <td>...</td>\n      <td>...</td>\n      <td>...</td>\n      <td>...</td>\n      <td>...</td>\n      <td>...</td>\n      <td>...</td>\n      <td>...</td>\n      <td>...</td>\n      <td>...</td>\n      <td>...</td>\n      <td>...</td>\n    </tr>\n    <tr>\n      <th>1996</th>\n      <td>1606867200</td>\n      <td>18889.26</td>\n      <td>18513.87</td>\n      <td>18792.03</td>\n      <td>3819.10</td>\n      <td>71295066.83</td>\n      <td>18839.24</td>\n      <td>direct</td>\n      <td></td>\n      <td>2021-02-23 23:56:02.549322</td>\n      <td>10</td>\n      <td>2020-12-02 00:00:00</td>\n      <td>BTC</td>\n    </tr>\n    <tr>\n      <th>1997</th>\n      <td>1606870800</td>\n      <td>18966.70</td>\n      <td>18726.47</td>\n      <td>18839.24</td>\n      <td>1289.09</td>\n      <td>24270519.72</td>\n      <td>18864.63</td>\n      <td>direct</td>\n      <td></td>\n      <td>2021-02-23 23:56:02.549322</td>\n      <td>10</td>\n      <td>2020-12-02 01:00:00</td>\n      <td>BTC</td>\n    </tr>\n    <tr>\n      <th>1998</th>\n      <td>1606874400</td>\n      <td>18871.24</td>\n      <td>18675.55</td>\n      <td>18864.63</td>\n      <td>1234.52</td>\n      <td>23169133.41</td>\n      <td>18703.97</td>\n      <td>direct</td>\n      <td></td>\n      <td>2021-02-23 23:56:02.549322</td>\n      <td>10</td>\n      <td>2020-12-02 02:00:00</td>\n      <td>BTC</td>\n    </tr>\n    <tr>\n      <th>1999</th>\n      <td>1606878000</td>\n      <td>18804.17</td>\n      <td>18533.15</td>\n      <td>18703.97</td>\n      <td>2839.03</td>\n      <td>52920817.47</td>\n      <td>18621.80</td>\n      <td>direct</td>\n      <td></td>\n      <td>2021-02-23 23:56:02.549322</td>\n      <td>10</td>\n      <td>2020-12-02 03:00:00</td>\n      <td>BTC</td>\n    </tr>\n    <tr>\n      <th>2000</th>\n      <td>1606881600</td>\n      <td>18703.87</td>\n      <td>18350.00</td>\n      <td>18621.80</td>\n      <td>3410.25</td>\n      <td>63019742.87</td>\n      <td>18559.38</td>\n      <td>direct</td>\n      <td></td>\n      <td>2021-02-23 23:56:02.549322</td>\n      <td>10</td>\n      <td>2020-12-02 04:00:00</td>\n      <td>BTC</td>\n    </tr>\n  </tbody>\n</table>\n<p>4002 rows × 13 columns</p>\n</div>",
      "text/plain": "            time      high       low      open  volumefrom     volumeto  \\\n0     1606881600  18703.87  18350.00  18621.80     3410.25  63019742.87   \n1     1606885200  18665.00  18481.75  18559.38     1532.91  28467746.52   \n2     1606888800  18946.70  18649.23  18664.77     1922.03  36120973.84   \n3     1606892400  19129.07  18846.72  18941.28     2212.26  41920062.44   \n4     1606896000  19337.16  19075.66  19127.00     2774.43  53331491.04   \n...          ...       ...       ...       ...         ...          ...   \n1996  1606867200  18889.26  18513.87  18792.03     3819.10  71295066.83   \n1997  1606870800  18966.70  18726.47  18839.24     1289.09  24270519.72   \n1998  1606874400  18871.24  18675.55  18864.63     1234.52  23169133.41   \n1999  1606878000  18804.17  18533.15  18703.97     2839.03  52920817.47   \n2000  1606881600  18703.87  18350.00  18621.80     3410.25  63019742.87   \n\n         close conversionType conversionSymbol                  timestamp  \\\n0     18559.38         direct                  2021-02-23 23:55:14.992641   \n1     18664.77         direct                  2021-02-23 23:55:14.992641   \n2     18941.28         direct                  2021-02-23 23:55:14.992641   \n3     19127.00         direct                  2021-02-23 23:55:14.992641   \n4     19196.49         direct                  2021-02-23 23:55:14.992641   \n...        ...            ...              ...                        ...   \n1996  18839.24         direct                  2021-02-23 23:56:02.549322   \n1997  18864.63         direct                  2021-02-23 23:56:02.549322   \n1998  18703.97         direct                  2021-02-23 23:56:02.549322   \n1999  18621.80         direct                  2021-02-23 23:56:02.549322   \n2000  18559.38         direct                  2021-02-23 23:56:02.549322   \n\n      iteration        time_convert coin_symbol  \n0             0 2020-12-02 04:00:00         BTC  \n1             0 2020-12-02 05:00:00         BTC  \n2             0 2020-12-02 06:00:00         BTC  \n3             0 2020-12-02 07:00:00         BTC  \n4             0 2020-12-02 08:00:00         BTC  \n...         ...                 ...         ...  \n1996         10 2020-12-02 00:00:00         BTC  \n1997         10 2020-12-02 01:00:00         BTC  \n1998         10 2020-12-02 02:00:00         BTC  \n1999         10 2020-12-02 03:00:00         BTC  \n2000         10 2020-12-02 04:00:00         BTC  \n\n[4002 rows x 13 columns]"
     },
     "execution_count": 87,
     "metadata": {},
     "output_type": "execute_result"
    }
   ],
   "source": [
    "btc_price = price[price['coin_symbol']=='BTC']\n",
    "btc_price"
   ]
  },
  {
   "cell_type": "code",
   "execution_count": 88,
   "metadata": {},
   "outputs": [
    {
     "data": {
      "text/html": "<div>\n<style scoped>\n    .dataframe tbody tr th:only-of-type {\n        vertical-align: middle;\n    }\n\n    .dataframe tbody tr th {\n        vertical-align: top;\n    }\n\n    .dataframe thead th {\n        text-align: right;\n    }\n</style>\n<table border=\"1\" class=\"dataframe\">\n  <thead>\n    <tr style=\"text-align: right;\">\n      <th></th>\n      <th>time_convert</th>\n      <th>close</th>\n    </tr>\n  </thead>\n  <tbody>\n    <tr>\n      <th>0</th>\n      <td>2020-12-02 04:00:00</td>\n      <td>18559.38</td>\n    </tr>\n    <tr>\n      <th>1</th>\n      <td>2020-12-02 05:00:00</td>\n      <td>18664.77</td>\n    </tr>\n    <tr>\n      <th>2</th>\n      <td>2020-12-02 06:00:00</td>\n      <td>18941.28</td>\n    </tr>\n    <tr>\n      <th>3</th>\n      <td>2020-12-02 07:00:00</td>\n      <td>19127.00</td>\n    </tr>\n    <tr>\n      <th>4</th>\n      <td>2020-12-02 08:00:00</td>\n      <td>19196.49</td>\n    </tr>\n    <tr>\n      <th>...</th>\n      <td>...</td>\n      <td>...</td>\n    </tr>\n    <tr>\n      <th>1996</th>\n      <td>2020-12-02 00:00:00</td>\n      <td>18839.24</td>\n    </tr>\n    <tr>\n      <th>1997</th>\n      <td>2020-12-02 01:00:00</td>\n      <td>18864.63</td>\n    </tr>\n    <tr>\n      <th>1998</th>\n      <td>2020-12-02 02:00:00</td>\n      <td>18703.97</td>\n    </tr>\n    <tr>\n      <th>1999</th>\n      <td>2020-12-02 03:00:00</td>\n      <td>18621.80</td>\n    </tr>\n    <tr>\n      <th>2000</th>\n      <td>2020-12-02 04:00:00</td>\n      <td>18559.38</td>\n    </tr>\n  </tbody>\n</table>\n<p>4002 rows × 2 columns</p>\n</div>",
      "text/plain": "            time_convert     close\n0    2020-12-02 04:00:00  18559.38\n1    2020-12-02 05:00:00  18664.77\n2    2020-12-02 06:00:00  18941.28\n3    2020-12-02 07:00:00  19127.00\n4    2020-12-02 08:00:00  19196.49\n...                  ...       ...\n1996 2020-12-02 00:00:00  18839.24\n1997 2020-12-02 01:00:00  18864.63\n1998 2020-12-02 02:00:00  18703.97\n1999 2020-12-02 03:00:00  18621.80\n2000 2020-12-02 04:00:00  18559.38\n\n[4002 rows x 2 columns]"
     },
     "execution_count": 88,
     "metadata": {},
     "output_type": "execute_result"
    }
   ],
   "source": [
    "btc_price = btc_price[['time_convert', 'close']]\n",
    "btc_price"
   ]
  },
  {
   "cell_type": "code",
   "execution_count": 89,
   "metadata": {},
   "outputs": [],
   "source": [
    "btc_price = btc_price.set_index('time_convert')\n"
   ]
  },
  {
   "cell_type": "code",
   "execution_count": 90,
   "metadata": {},
   "outputs": [
    {
     "data": {
      "text/html": "<div>\n<style scoped>\n    .dataframe tbody tr th:only-of-type {\n        vertical-align: middle;\n    }\n\n    .dataframe tbody tr th {\n        vertical-align: top;\n    }\n\n    .dataframe thead th {\n        text-align: right;\n    }\n</style>\n<table border=\"1\" class=\"dataframe\">\n  <thead>\n    <tr style=\"text-align: right;\">\n      <th></th>\n      <th>close</th>\n    </tr>\n    <tr>\n      <th>time_convert</th>\n      <th></th>\n    </tr>\n  </thead>\n  <tbody>\n    <tr>\n      <th>2020-12-02 04:00:00</th>\n      <td>18559.38</td>\n    </tr>\n    <tr>\n      <th>2020-12-02 05:00:00</th>\n      <td>18664.77</td>\n    </tr>\n    <tr>\n      <th>2020-12-02 06:00:00</th>\n      <td>18941.28</td>\n    </tr>\n    <tr>\n      <th>2020-12-02 07:00:00</th>\n      <td>19127.00</td>\n    </tr>\n    <tr>\n      <th>2020-12-02 08:00:00</th>\n      <td>19196.49</td>\n    </tr>\n    <tr>\n      <th>...</th>\n      <td>...</td>\n    </tr>\n    <tr>\n      <th>2021-02-23 07:00:00</th>\n      <td>49640.13</td>\n    </tr>\n    <tr>\n      <th>2021-02-23 08:00:00</th>\n      <td>46618.38</td>\n    </tr>\n    <tr>\n      <th>2021-02-23 09:00:00</th>\n      <td>48046.76</td>\n    </tr>\n    <tr>\n      <th>2021-02-23 10:00:00</th>\n      <td>47484.88</td>\n    </tr>\n    <tr>\n      <th>2021-02-23 11:00:00</th>\n      <td>46395.18</td>\n    </tr>\n  </tbody>\n</table>\n<p>2000 rows × 1 columns</p>\n</div>",
      "text/plain": "                        close\ntime_convert                 \n2020-12-02 04:00:00  18559.38\n2020-12-02 05:00:00  18664.77\n2020-12-02 06:00:00  18941.28\n2020-12-02 07:00:00  19127.00\n2020-12-02 08:00:00  19196.49\n...                       ...\n2021-02-23 07:00:00  49640.13\n2021-02-23 08:00:00  46618.38\n2021-02-23 09:00:00  48046.76\n2021-02-23 10:00:00  47484.88\n2021-02-23 11:00:00  46395.18\n\n[2000 rows x 1 columns]"
     },
     "execution_count": 90,
     "metadata": {},
     "output_type": "execute_result"
    }
   ],
   "source": [
    "btc_price = btc_price[:2000]\n",
    "btc_price"
   ]
  },
  {
   "cell_type": "code",
   "execution_count": 91,
   "metadata": {},
   "outputs": [
    {
     "data": {
      "text/plain": "Timestamp('2020-12-02 04:00:00')"
     },
     "execution_count": 91,
     "metadata": {},
     "output_type": "execute_result"
    }
   ],
   "source": [
    "btc_price.index[0]"
   ]
  },
  {
   "cell_type": "code",
   "execution_count": 92,
   "metadata": {},
   "outputs": [
    {
     "data": {
      "text/html": "<div>\n<style scoped>\n    .dataframe tbody tr th:only-of-type {\n        vertical-align: middle;\n    }\n\n    .dataframe tbody tr th {\n        vertical-align: top;\n    }\n\n    .dataframe thead th {\n        text-align: right;\n    }\n</style>\n<table border=\"1\" class=\"dataframe\">\n  <thead>\n    <tr style=\"text-align: right;\">\n      <th></th>\n      <th>created_at</th>\n      <th>text</th>\n    </tr>\n  </thead>\n  <tbody>\n    <tr>\n      <th>0</th>\n      <td>2021-02-23T08:20:41.000Z</td>\n      <td>@PeterSchiff 🍆</td>\n    </tr>\n    <tr>\n      <th>1</th>\n      <td>2021-02-23T08:18:12.000Z</td>\n      <td>@PPathole Super cool</td>\n    </tr>\n    <tr>\n      <th>2</th>\n      <td>2021-02-22T23:25:09.000Z</td>\n      <td>@jgrano305 @AustinTeslaClub We have too much p...</td>\n    </tr>\n    <tr>\n      <th>3</th>\n      <td>2021-02-22T20:22:10.000Z</td>\n      <td>@TechAmazing @UniverCurious Tunnels!!</td>\n    </tr>\n    <tr>\n      <th>4</th>\n      <td>2021-02-22T20:21:15.000Z</td>\n      <td>@JantieWillie @Adamklotz_ @AustinTeslaClub Hop...</td>\n    </tr>\n    <tr>\n      <th>...</th>\n      <td>...</td>\n      <td>...</td>\n    </tr>\n    <tr>\n      <th>2</th>\n      <td>2020-04-10T07:42:17.000Z</td>\n      <td>@nichegamer 🤣🤣</td>\n    </tr>\n    <tr>\n      <th>3</th>\n      <td>2020-04-10T07:39:10.000Z</td>\n      <td>But actually https://t.co/jlowaHobXO</td>\n    </tr>\n    <tr>\n      <th>4</th>\n      <td>2020-04-10T00:23:11.000Z</td>\n      <td>@arvnp @Jamie_Woodward_ The Standard Model is ...</td>\n    </tr>\n    <tr>\n      <th>5</th>\n      <td>2020-04-10T00:04:04.000Z</td>\n      <td>@Jamie_Woodward_ … is bs</td>\n    </tr>\n    <tr>\n      <th>6</th>\n      <td>2020-04-09T22:58:40.000Z</td>\n      <td>@Jamie_Woodward_ String theory</td>\n    </tr>\n  </tbody>\n</table>\n<p>3206 rows × 2 columns</p>\n</div>",
      "text/plain": "                  created_at  \\\n0   2021-02-23T08:20:41.000Z   \n1   2021-02-23T08:18:12.000Z   \n2   2021-02-22T23:25:09.000Z   \n3   2021-02-22T20:22:10.000Z   \n4   2021-02-22T20:21:15.000Z   \n..                       ...   \n2   2020-04-10T07:42:17.000Z   \n3   2020-04-10T07:39:10.000Z   \n4   2020-04-10T00:23:11.000Z   \n5   2020-04-10T00:04:04.000Z   \n6   2020-04-09T22:58:40.000Z   \n\n                                                 text  \n0                                      @PeterSchiff 🍆  \n1                                @PPathole Super cool  \n2   @jgrano305 @AustinTeslaClub We have too much p...  \n3               @TechAmazing @UniverCurious Tunnels!!  \n4   @JantieWillie @Adamklotz_ @AustinTeslaClub Hop...  \n..                                                ...  \n2                                      @nichegamer 🤣🤣  \n3                But actually https://t.co/jlowaHobXO  \n4   @arvnp @Jamie_Woodward_ The Standard Model is ...  \n5                            @Jamie_Woodward_ … is bs  \n6                      @Jamie_Woodward_ String theory  \n\n[3206 rows x 2 columns]"
     },
     "execution_count": 92,
     "metadata": {},
     "output_type": "execute_result"
    }
   ],
   "source": [
    "tweet = tweet[['created_at', 'text']]\n",
    "tweet"
   ]
  },
  {
   "cell_type": "code",
   "execution_count": 93,
   "metadata": {},
   "outputs": [
    {
     "data": {
      "text/plain": "'2021-02-23T08'"
     },
     "execution_count": 93,
     "metadata": {},
     "output_type": "execute_result"
    }
   ],
   "source": [
    "tweet.iloc[0, 0][:13]"
   ]
  },
  {
   "cell_type": "code",
   "execution_count": 94,
   "metadata": {},
   "outputs": [],
   "source": [
    "all_tweet_time_hour = []\n",
    "\n",
    "for index, row in tweet.iterrows():\n",
    "    tweet_time_hour = row['created_at'][:13]\n",
    "    all_tweet_time_hour.append(tweet_time_hour)\n"
   ]
  },
  {
   "cell_type": "code",
   "execution_count": 95,
   "metadata": {},
   "outputs": [
    {
     "data": {
      "text/plain": "['2021-02-23T08',\n '2021-02-23T08',\n '2021-02-22T23',\n '2021-02-22T20',\n '2021-02-22T20']"
     },
     "execution_count": 95,
     "metadata": {},
     "output_type": "execute_result"
    }
   ],
   "source": [
    "all_tweet_time_hour[:5]"
   ]
  },
  {
   "cell_type": "code",
   "execution_count": 96,
   "metadata": {},
   "outputs": [
    {
     "data": {
      "text/html": "<div>\n<style scoped>\n    .dataframe tbody tr th:only-of-type {\n        vertical-align: middle;\n    }\n\n    .dataframe tbody tr th {\n        vertical-align: top;\n    }\n\n    .dataframe thead th {\n        text-align: right;\n    }\n</style>\n<table border=\"1\" class=\"dataframe\">\n  <thead>\n    <tr style=\"text-align: right;\">\n      <th></th>\n      <th>created_at</th>\n      <th>text</th>\n      <th>time in hour</th>\n    </tr>\n  </thead>\n  <tbody>\n    <tr>\n      <th>0</th>\n      <td>2021-02-23T08:20:41.000Z</td>\n      <td>@PeterSchiff 🍆</td>\n      <td>2021-02-23T08</td>\n    </tr>\n    <tr>\n      <th>1</th>\n      <td>2021-02-23T08:18:12.000Z</td>\n      <td>@PPathole Super cool</td>\n      <td>2021-02-23T08</td>\n    </tr>\n    <tr>\n      <th>2</th>\n      <td>2021-02-22T23:25:09.000Z</td>\n      <td>@jgrano305 @AustinTeslaClub We have too much p...</td>\n      <td>2021-02-22T23</td>\n    </tr>\n    <tr>\n      <th>3</th>\n      <td>2021-02-22T20:22:10.000Z</td>\n      <td>@TechAmazing @UniverCurious Tunnels!!</td>\n      <td>2021-02-22T20</td>\n    </tr>\n    <tr>\n      <th>4</th>\n      <td>2021-02-22T20:21:15.000Z</td>\n      <td>@JantieWillie @Adamklotz_ @AustinTeslaClub Hop...</td>\n      <td>2021-02-22T20</td>\n    </tr>\n    <tr>\n      <th>...</th>\n      <td>...</td>\n      <td>...</td>\n      <td>...</td>\n    </tr>\n    <tr>\n      <th>2</th>\n      <td>2020-04-10T07:42:17.000Z</td>\n      <td>@nichegamer 🤣🤣</td>\n      <td>2020-04-10T07</td>\n    </tr>\n    <tr>\n      <th>3</th>\n      <td>2020-04-10T07:39:10.000Z</td>\n      <td>But actually https://t.co/jlowaHobXO</td>\n      <td>2020-04-10T07</td>\n    </tr>\n    <tr>\n      <th>4</th>\n      <td>2020-04-10T00:23:11.000Z</td>\n      <td>@arvnp @Jamie_Woodward_ The Standard Model is ...</td>\n      <td>2020-04-10T00</td>\n    </tr>\n    <tr>\n      <th>5</th>\n      <td>2020-04-10T00:04:04.000Z</td>\n      <td>@Jamie_Woodward_ … is bs</td>\n      <td>2020-04-10T00</td>\n    </tr>\n    <tr>\n      <th>6</th>\n      <td>2020-04-09T22:58:40.000Z</td>\n      <td>@Jamie_Woodward_ String theory</td>\n      <td>2020-04-09T22</td>\n    </tr>\n  </tbody>\n</table>\n<p>3206 rows × 3 columns</p>\n</div>",
      "text/plain": "                  created_at  \\\n0   2021-02-23T08:20:41.000Z   \n1   2021-02-23T08:18:12.000Z   \n2   2021-02-22T23:25:09.000Z   \n3   2021-02-22T20:22:10.000Z   \n4   2021-02-22T20:21:15.000Z   \n..                       ...   \n2   2020-04-10T07:42:17.000Z   \n3   2020-04-10T07:39:10.000Z   \n4   2020-04-10T00:23:11.000Z   \n5   2020-04-10T00:04:04.000Z   \n6   2020-04-09T22:58:40.000Z   \n\n                                                 text   time in hour  \n0                                      @PeterSchiff 🍆  2021-02-23T08  \n1                                @PPathole Super cool  2021-02-23T08  \n2   @jgrano305 @AustinTeslaClub We have too much p...  2021-02-22T23  \n3               @TechAmazing @UniverCurious Tunnels!!  2021-02-22T20  \n4   @JantieWillie @Adamklotz_ @AustinTeslaClub Hop...  2021-02-22T20  \n..                                                ...            ...  \n2                                      @nichegamer 🤣🤣  2020-04-10T07  \n3                But actually https://t.co/jlowaHobXO  2020-04-10T07  \n4   @arvnp @Jamie_Woodward_ The Standard Model is ...  2020-04-10T00  \n5                            @Jamie_Woodward_ … is bs  2020-04-10T00  \n6                      @Jamie_Woodward_ String theory  2020-04-09T22  \n\n[3206 rows x 3 columns]"
     },
     "execution_count": 96,
     "metadata": {},
     "output_type": "execute_result"
    }
   ],
   "source": [
    "tweet['time in hour'] = all_tweet_time_hour\n",
    "tweet"
   ]
  },
  {
   "cell_type": "code",
   "execution_count": 97,
   "metadata": {},
   "outputs": [],
   "source": [
    "tweet['time in hour'] = pd.to_datetime(tweet['time in hour'])"
   ]
  },
  {
   "cell_type": "code",
   "execution_count": 98,
   "metadata": {},
   "outputs": [
    {
     "data": {
      "text/plain": "Timestamp('2021-02-23 08:00:00')"
     },
     "execution_count": 98,
     "metadata": {},
     "output_type": "execute_result"
    }
   ],
   "source": [
    "tweet.iloc[0, 2]"
   ]
  },
  {
   "cell_type": "code",
   "execution_count": 99,
   "metadata": {},
   "outputs": [],
   "source": [
    "tweet = tweet.set_index('time in hour')"
   ]
  },
  {
   "cell_type": "code",
   "execution_count": 100,
   "metadata": {},
   "outputs": [
    {
     "data": {
      "text/html": "<div>\n<style scoped>\n    .dataframe tbody tr th:only-of-type {\n        vertical-align: middle;\n    }\n\n    .dataframe tbody tr th {\n        vertical-align: top;\n    }\n\n    .dataframe thead th {\n        text-align: right;\n    }\n</style>\n<table border=\"1\" class=\"dataframe\">\n  <thead>\n    <tr style=\"text-align: right;\">\n      <th></th>\n      <th>text</th>\n    </tr>\n    <tr>\n      <th>time in hour</th>\n      <th></th>\n    </tr>\n  </thead>\n  <tbody>\n    <tr>\n      <th>2021-02-23 08:00:00</th>\n      <td>@PeterSchiff 🍆</td>\n    </tr>\n    <tr>\n      <th>2021-02-23 08:00:00</th>\n      <td>@PPathole Super cool</td>\n    </tr>\n    <tr>\n      <th>2021-02-22 23:00:00</th>\n      <td>@jgrano305 @AustinTeslaClub We have too much p...</td>\n    </tr>\n    <tr>\n      <th>2021-02-22 20:00:00</th>\n      <td>@TechAmazing @UniverCurious Tunnels!!</td>\n    </tr>\n    <tr>\n      <th>2021-02-22 20:00:00</th>\n      <td>@JantieWillie @Adamklotz_ @AustinTeslaClub Hop...</td>\n    </tr>\n    <tr>\n      <th>...</th>\n      <td>...</td>\n    </tr>\n    <tr>\n      <th>2020-04-10 07:00:00</th>\n      <td>@nichegamer 🤣🤣</td>\n    </tr>\n    <tr>\n      <th>2020-04-10 07:00:00</th>\n      <td>But actually https://t.co/jlowaHobXO</td>\n    </tr>\n    <tr>\n      <th>2020-04-10 00:00:00</th>\n      <td>@arvnp @Jamie_Woodward_ The Standard Model is ...</td>\n    </tr>\n    <tr>\n      <th>2020-04-10 00:00:00</th>\n      <td>@Jamie_Woodward_ … is bs</td>\n    </tr>\n    <tr>\n      <th>2020-04-09 22:00:00</th>\n      <td>@Jamie_Woodward_ String theory</td>\n    </tr>\n  </tbody>\n</table>\n<p>3206 rows × 1 columns</p>\n</div>",
      "text/plain": "                                                                  text\ntime in hour                                                          \n2021-02-23 08:00:00                                     @PeterSchiff 🍆\n2021-02-23 08:00:00                               @PPathole Super cool\n2021-02-22 23:00:00  @jgrano305 @AustinTeslaClub We have too much p...\n2021-02-22 20:00:00              @TechAmazing @UniverCurious Tunnels!!\n2021-02-22 20:00:00  @JantieWillie @Adamklotz_ @AustinTeslaClub Hop...\n...                                                                ...\n2020-04-10 07:00:00                                     @nichegamer 🤣🤣\n2020-04-10 07:00:00               But actually https://t.co/jlowaHobXO\n2020-04-10 00:00:00  @arvnp @Jamie_Woodward_ The Standard Model is ...\n2020-04-10 00:00:00                           @Jamie_Woodward_ … is bs\n2020-04-09 22:00:00                     @Jamie_Woodward_ String theory\n\n[3206 rows x 1 columns]"
     },
     "execution_count": 100,
     "metadata": {},
     "output_type": "execute_result"
    }
   ],
   "source": [
    "tweet = tweet.drop(columns='created_at')\n",
    "tweet"
   ]
  },
  {
   "cell_type": "code",
   "execution_count": 101,
   "metadata": {},
   "outputs": [
    {
     "data": {
      "text/html": "<div>\n<style scoped>\n    .dataframe tbody tr th:only-of-type {\n        vertical-align: middle;\n    }\n\n    .dataframe tbody tr th {\n        vertical-align: top;\n    }\n\n    .dataframe thead th {\n        text-align: right;\n    }\n</style>\n<table border=\"1\" class=\"dataframe\">\n  <thead>\n    <tr style=\"text-align: right;\">\n      <th></th>\n      <th>close</th>\n    </tr>\n    <tr>\n      <th>time_convert</th>\n      <th></th>\n    </tr>\n  </thead>\n  <tbody>\n    <tr>\n      <th>2020-12-02 04:00:00</th>\n      <td>18559.38</td>\n    </tr>\n    <tr>\n      <th>2020-12-02 05:00:00</th>\n      <td>18664.77</td>\n    </tr>\n    <tr>\n      <th>2020-12-02 06:00:00</th>\n      <td>18941.28</td>\n    </tr>\n    <tr>\n      <th>2020-12-02 07:00:00</th>\n      <td>19127.00</td>\n    </tr>\n    <tr>\n      <th>2020-12-02 08:00:00</th>\n      <td>19196.49</td>\n    </tr>\n    <tr>\n      <th>...</th>\n      <td>...</td>\n    </tr>\n    <tr>\n      <th>2021-02-23 07:00:00</th>\n      <td>49640.13</td>\n    </tr>\n    <tr>\n      <th>2021-02-23 08:00:00</th>\n      <td>46618.38</td>\n    </tr>\n    <tr>\n      <th>2021-02-23 09:00:00</th>\n      <td>48046.76</td>\n    </tr>\n    <tr>\n      <th>2021-02-23 10:00:00</th>\n      <td>47484.88</td>\n    </tr>\n    <tr>\n      <th>2021-02-23 11:00:00</th>\n      <td>46395.18</td>\n    </tr>\n  </tbody>\n</table>\n<p>2000 rows × 1 columns</p>\n</div>",
      "text/plain": "                        close\ntime_convert                 \n2020-12-02 04:00:00  18559.38\n2020-12-02 05:00:00  18664.77\n2020-12-02 06:00:00  18941.28\n2020-12-02 07:00:00  19127.00\n2020-12-02 08:00:00  19196.49\n...                       ...\n2021-02-23 07:00:00  49640.13\n2021-02-23 08:00:00  46618.38\n2021-02-23 09:00:00  48046.76\n2021-02-23 10:00:00  47484.88\n2021-02-23 11:00:00  46395.18\n\n[2000 rows x 1 columns]"
     },
     "execution_count": 101,
     "metadata": {},
     "output_type": "execute_result"
    }
   ],
   "source": [
    "df_tweet_btc = btc_price\n",
    "df_tweet_btc"
   ]
  },
  {
   "cell_type": "code",
   "execution_count": 102,
   "metadata": {},
   "outputs": [
    {
     "data": {
      "text/html": "<div>\n<style scoped>\n    .dataframe tbody tr th:only-of-type {\n        vertical-align: middle;\n    }\n\n    .dataframe tbody tr th {\n        vertical-align: top;\n    }\n\n    .dataframe thead th {\n        text-align: right;\n    }\n</style>\n<table border=\"1\" class=\"dataframe\">\n  <thead>\n    <tr style=\"text-align: right;\">\n      <th></th>\n      <th>close</th>\n    </tr>\n    <tr>\n      <th>time</th>\n      <th></th>\n    </tr>\n  </thead>\n  <tbody>\n    <tr>\n      <th>2020-12-02 04:00:00</th>\n      <td>18559.38</td>\n    </tr>\n    <tr>\n      <th>2020-12-02 05:00:00</th>\n      <td>18664.77</td>\n    </tr>\n    <tr>\n      <th>2020-12-02 06:00:00</th>\n      <td>18941.28</td>\n    </tr>\n    <tr>\n      <th>2020-12-02 07:00:00</th>\n      <td>19127.00</td>\n    </tr>\n    <tr>\n      <th>2020-12-02 08:00:00</th>\n      <td>19196.49</td>\n    </tr>\n    <tr>\n      <th>...</th>\n      <td>...</td>\n    </tr>\n    <tr>\n      <th>2021-02-23 07:00:00</th>\n      <td>49640.13</td>\n    </tr>\n    <tr>\n      <th>2021-02-23 08:00:00</th>\n      <td>46618.38</td>\n    </tr>\n    <tr>\n      <th>2021-02-23 09:00:00</th>\n      <td>48046.76</td>\n    </tr>\n    <tr>\n      <th>2021-02-23 10:00:00</th>\n      <td>47484.88</td>\n    </tr>\n    <tr>\n      <th>2021-02-23 11:00:00</th>\n      <td>46395.18</td>\n    </tr>\n  </tbody>\n</table>\n<p>2000 rows × 1 columns</p>\n</div>",
      "text/plain": "                        close\ntime                         \n2020-12-02 04:00:00  18559.38\n2020-12-02 05:00:00  18664.77\n2020-12-02 06:00:00  18941.28\n2020-12-02 07:00:00  19127.00\n2020-12-02 08:00:00  19196.49\n...                       ...\n2021-02-23 07:00:00  49640.13\n2021-02-23 08:00:00  46618.38\n2021-02-23 09:00:00  48046.76\n2021-02-23 10:00:00  47484.88\n2021-02-23 11:00:00  46395.18\n\n[2000 rows x 1 columns]"
     },
     "execution_count": 102,
     "metadata": {},
     "output_type": "execute_result"
    }
   ],
   "source": [
    "df_tweet_btc.index = df_tweet_btc.index.rename('time')\n",
    "df_tweet_btc"
   ]
  },
  {
   "cell_type": "code",
   "execution_count": 103,
   "metadata": {},
   "outputs": [],
   "source": [
    "import numpy as np"
   ]
  },
  {
   "cell_type": "code",
   "execution_count": 104,
   "metadata": {},
   "outputs": [
    {
     "data": {
      "text/html": "<div>\n<style scoped>\n    .dataframe tbody tr th:only-of-type {\n        vertical-align: middle;\n    }\n\n    .dataframe tbody tr th {\n        vertical-align: top;\n    }\n\n    .dataframe thead th {\n        text-align: right;\n    }\n</style>\n<table border=\"1\" class=\"dataframe\">\n  <thead>\n    <tr style=\"text-align: right;\">\n      <th></th>\n      <th>close</th>\n      <th>tweet</th>\n    </tr>\n    <tr>\n      <th>time</th>\n      <th></th>\n      <th></th>\n    </tr>\n  </thead>\n  <tbody>\n    <tr>\n      <th>2020-12-02 04:00:00</th>\n      <td>18559.38</td>\n      <td>[]</td>\n    </tr>\n    <tr>\n      <th>2020-12-02 05:00:00</th>\n      <td>18664.77</td>\n      <td>[]</td>\n    </tr>\n    <tr>\n      <th>2020-12-02 06:00:00</th>\n      <td>18941.28</td>\n      <td>[]</td>\n    </tr>\n    <tr>\n      <th>2020-12-02 07:00:00</th>\n      <td>19127.00</td>\n      <td>[]</td>\n    </tr>\n    <tr>\n      <th>2020-12-02 08:00:00</th>\n      <td>19196.49</td>\n      <td>[]</td>\n    </tr>\n    <tr>\n      <th>...</th>\n      <td>...</td>\n      <td>...</td>\n    </tr>\n    <tr>\n      <th>2021-02-23 07:00:00</th>\n      <td>49640.13</td>\n      <td>[]</td>\n    </tr>\n    <tr>\n      <th>2021-02-23 08:00:00</th>\n      <td>46618.38</td>\n      <td>[]</td>\n    </tr>\n    <tr>\n      <th>2021-02-23 09:00:00</th>\n      <td>48046.76</td>\n      <td>[]</td>\n    </tr>\n    <tr>\n      <th>2021-02-23 10:00:00</th>\n      <td>47484.88</td>\n      <td>[]</td>\n    </tr>\n    <tr>\n      <th>2021-02-23 11:00:00</th>\n      <td>46395.18</td>\n      <td>[]</td>\n    </tr>\n  </tbody>\n</table>\n<p>2000 rows × 2 columns</p>\n</div>",
      "text/plain": "                        close tweet\ntime                               \n2020-12-02 04:00:00  18559.38    []\n2020-12-02 05:00:00  18664.77    []\n2020-12-02 06:00:00  18941.28    []\n2020-12-02 07:00:00  19127.00    []\n2020-12-02 08:00:00  19196.49    []\n...                       ...   ...\n2021-02-23 07:00:00  49640.13    []\n2021-02-23 08:00:00  46618.38    []\n2021-02-23 09:00:00  48046.76    []\n2021-02-23 10:00:00  47484.88    []\n2021-02-23 11:00:00  46395.18    []\n\n[2000 rows x 2 columns]"
     },
     "execution_count": 104,
     "metadata": {},
     "output_type": "execute_result"
    }
   ],
   "source": [
    "df_tweet_btc['tweet'] = np.empty((len(df_tweet_btc), 0)).tolist()\n",
    "df_tweet_btc"
   ]
  },
  {
   "cell_type": "code",
   "execution_count": 105,
   "metadata": {},
   "outputs": [
    {
     "data": {
      "text/html": "<div>\n<style scoped>\n    .dataframe tbody tr th:only-of-type {\n        vertical-align: middle;\n    }\n\n    .dataframe tbody tr th {\n        vertical-align: top;\n    }\n\n    .dataframe thead th {\n        text-align: right;\n    }\n</style>\n<table border=\"1\" class=\"dataframe\">\n  <thead>\n    <tr style=\"text-align: right;\">\n      <th></th>\n      <th>text</th>\n    </tr>\n    <tr>\n      <th>time in hour</th>\n      <th></th>\n    </tr>\n  </thead>\n  <tbody>\n    <tr>\n      <th>2021-02-23 08:00:00</th>\n      <td>@PeterSchiff 🍆</td>\n    </tr>\n    <tr>\n      <th>2021-02-23 08:00:00</th>\n      <td>@PPathole Super cool</td>\n    </tr>\n    <tr>\n      <th>2021-02-22 23:00:00</th>\n      <td>@jgrano305 @AustinTeslaClub We have too much p...</td>\n    </tr>\n    <tr>\n      <th>2021-02-22 20:00:00</th>\n      <td>@TechAmazing @UniverCurious Tunnels!!</td>\n    </tr>\n    <tr>\n      <th>2021-02-22 20:00:00</th>\n      <td>@JantieWillie @Adamklotz_ @AustinTeslaClub Hop...</td>\n    </tr>\n    <tr>\n      <th>...</th>\n      <td>...</td>\n    </tr>\n    <tr>\n      <th>2020-04-10 07:00:00</th>\n      <td>@nichegamer 🤣🤣</td>\n    </tr>\n    <tr>\n      <th>2020-04-10 07:00:00</th>\n      <td>But actually https://t.co/jlowaHobXO</td>\n    </tr>\n    <tr>\n      <th>2020-04-10 00:00:00</th>\n      <td>@arvnp @Jamie_Woodward_ The Standard Model is ...</td>\n    </tr>\n    <tr>\n      <th>2020-04-10 00:00:00</th>\n      <td>@Jamie_Woodward_ … is bs</td>\n    </tr>\n    <tr>\n      <th>2020-04-09 22:00:00</th>\n      <td>@Jamie_Woodward_ String theory</td>\n    </tr>\n  </tbody>\n</table>\n<p>3206 rows × 1 columns</p>\n</div>",
      "text/plain": "                                                                  text\ntime in hour                                                          \n2021-02-23 08:00:00                                     @PeterSchiff 🍆\n2021-02-23 08:00:00                               @PPathole Super cool\n2021-02-22 23:00:00  @jgrano305 @AustinTeslaClub We have too much p...\n2021-02-22 20:00:00              @TechAmazing @UniverCurious Tunnels!!\n2021-02-22 20:00:00  @JantieWillie @Adamklotz_ @AustinTeslaClub Hop...\n...                                                                ...\n2020-04-10 07:00:00                                     @nichegamer 🤣🤣\n2020-04-10 07:00:00               But actually https://t.co/jlowaHobXO\n2020-04-10 00:00:00  @arvnp @Jamie_Woodward_ The Standard Model is ...\n2020-04-10 00:00:00                           @Jamie_Woodward_ … is bs\n2020-04-09 22:00:00                     @Jamie_Woodward_ String theory\n\n[3206 rows x 1 columns]"
     },
     "execution_count": 105,
     "metadata": {},
     "output_type": "execute_result"
    }
   ],
   "source": [
    "tweet"
   ]
  },
  {
   "cell_type": "code",
   "execution_count": 106,
   "metadata": {},
   "outputs": [
    {
     "data": {
      "text/html": "<div>\n<style scoped>\n    .dataframe tbody tr th:only-of-type {\n        vertical-align: middle;\n    }\n\n    .dataframe tbody tr th {\n        vertical-align: top;\n    }\n\n    .dataframe thead th {\n        text-align: right;\n    }\n</style>\n<table border=\"1\" class=\"dataframe\">\n  <thead>\n    <tr style=\"text-align: right;\">\n      <th></th>\n      <th>close</th>\n      <th>tweet</th>\n    </tr>\n    <tr>\n      <th>time</th>\n      <th></th>\n      <th></th>\n    </tr>\n  </thead>\n  <tbody>\n    <tr>\n      <th>2020-12-02 04:00:00</th>\n      <td>18559.38</td>\n      <td>[]</td>\n    </tr>\n    <tr>\n      <th>2020-12-02 05:00:00</th>\n      <td>18664.77</td>\n      <td>[]</td>\n    </tr>\n    <tr>\n      <th>2020-12-02 06:00:00</th>\n      <td>18941.28</td>\n      <td>[]</td>\n    </tr>\n    <tr>\n      <th>2020-12-02 07:00:00</th>\n      <td>19127.00</td>\n      <td>[]</td>\n    </tr>\n    <tr>\n      <th>2020-12-02 08:00:00</th>\n      <td>19196.49</td>\n      <td>[]</td>\n    </tr>\n    <tr>\n      <th>...</th>\n      <td>...</td>\n      <td>...</td>\n    </tr>\n    <tr>\n      <th>2021-02-23 07:00:00</th>\n      <td>49640.13</td>\n      <td>[]</td>\n    </tr>\n    <tr>\n      <th>2021-02-23 08:00:00</th>\n      <td>46618.38</td>\n      <td>[@PeterSchiff 🍆, @PPathole Super cool]</td>\n    </tr>\n    <tr>\n      <th>2021-02-23 09:00:00</th>\n      <td>48046.76</td>\n      <td>[]</td>\n    </tr>\n    <tr>\n      <th>2021-02-23 10:00:00</th>\n      <td>47484.88</td>\n      <td>[]</td>\n    </tr>\n    <tr>\n      <th>2021-02-23 11:00:00</th>\n      <td>46395.18</td>\n      <td>[]</td>\n    </tr>\n  </tbody>\n</table>\n<p>2000 rows × 2 columns</p>\n</div>",
      "text/plain": "                        close                                   tweet\ntime                                                                 \n2020-12-02 04:00:00  18559.38                                      []\n2020-12-02 05:00:00  18664.77                                      []\n2020-12-02 06:00:00  18941.28                                      []\n2020-12-02 07:00:00  19127.00                                      []\n2020-12-02 08:00:00  19196.49                                      []\n...                       ...                                     ...\n2021-02-23 07:00:00  49640.13                                      []\n2021-02-23 08:00:00  46618.38  [@PeterSchiff 🍆, @PPathole Super cool]\n2021-02-23 09:00:00  48046.76                                      []\n2021-02-23 10:00:00  47484.88                                      []\n2021-02-23 11:00:00  46395.18                                      []\n\n[2000 rows x 2 columns]"
     },
     "execution_count": 106,
     "metadata": {},
     "output_type": "execute_result"
    }
   ],
   "source": [
    "for index, row in tweet.iterrows():\n",
    "    if index in df_tweet_btc.index:\n",
    "        df_tweet_btc.loc[index, 'tweet'].append(row['text'])\n",
    "\n",
    "df_tweet_btc        "
   ]
  },
  {
   "cell_type": "code",
   "execution_count": 114,
   "metadata": {},
   "outputs": [
    {
     "data": {
      "text/html": "<div>\n<style scoped>\n    .dataframe tbody tr th:only-of-type {\n        vertical-align: middle;\n    }\n\n    .dataframe tbody tr th {\n        vertical-align: top;\n    }\n\n    .dataframe thead th {\n        text-align: right;\n    }\n</style>\n<table border=\"1\" class=\"dataframe\">\n  <thead>\n    <tr style=\"text-align: right;\">\n      <th></th>\n      <th>BTC price</th>\n      <th>Elon Musk tweet</th>\n    </tr>\n    <tr>\n      <th>time</th>\n      <th></th>\n      <th></th>\n    </tr>\n  </thead>\n  <tbody>\n    <tr>\n      <th>2020-12-02 04:00:00</th>\n      <td>18559.38</td>\n      <td>[]</td>\n    </tr>\n    <tr>\n      <th>2020-12-02 05:00:00</th>\n      <td>18664.77</td>\n      <td>[]</td>\n    </tr>\n    <tr>\n      <th>2020-12-02 06:00:00</th>\n      <td>18941.28</td>\n      <td>[]</td>\n    </tr>\n    <tr>\n      <th>2020-12-02 07:00:00</th>\n      <td>19127.00</td>\n      <td>[]</td>\n    </tr>\n    <tr>\n      <th>2020-12-02 08:00:00</th>\n      <td>19196.49</td>\n      <td>[]</td>\n    </tr>\n    <tr>\n      <th>...</th>\n      <td>...</td>\n      <td>...</td>\n    </tr>\n    <tr>\n      <th>2021-02-23 07:00:00</th>\n      <td>49640.13</td>\n      <td>[]</td>\n    </tr>\n    <tr>\n      <th>2021-02-23 08:00:00</th>\n      <td>46618.38</td>\n      <td>[@PeterSchiff 🍆, @PPathole Super cool]</td>\n    </tr>\n    <tr>\n      <th>2021-02-23 09:00:00</th>\n      <td>48046.76</td>\n      <td>[]</td>\n    </tr>\n    <tr>\n      <th>2021-02-23 10:00:00</th>\n      <td>47484.88</td>\n      <td>[]</td>\n    </tr>\n    <tr>\n      <th>2021-02-23 11:00:00</th>\n      <td>46395.18</td>\n      <td>[]</td>\n    </tr>\n  </tbody>\n</table>\n<p>2000 rows × 2 columns</p>\n</div>",
      "text/plain": "                     BTC price                         Elon Musk tweet\ntime                                                                  \n2020-12-02 04:00:00   18559.38                                      []\n2020-12-02 05:00:00   18664.77                                      []\n2020-12-02 06:00:00   18941.28                                      []\n2020-12-02 07:00:00   19127.00                                      []\n2020-12-02 08:00:00   19196.49                                      []\n...                        ...                                     ...\n2021-02-23 07:00:00   49640.13                                      []\n2021-02-23 08:00:00   46618.38  [@PeterSchiff 🍆, @PPathole Super cool]\n2021-02-23 09:00:00   48046.76                                      []\n2021-02-23 10:00:00   47484.88                                      []\n2021-02-23 11:00:00   46395.18                                      []\n\n[2000 rows x 2 columns]"
     },
     "execution_count": 114,
     "metadata": {},
     "output_type": "execute_result"
    }
   ],
   "source": [
    "df_tweet_btc = df_tweet_btc.rename(columns={'close':'BTC price', 'tweet':'Elon Musk tweet'})\n",
    "df_tweet_btc"
   ]
  },
  {
   "cell_type": "code",
   "execution_count": 115,
   "metadata": {},
   "outputs": [],
   "source": [
    "df_tweet_btc.to_pickle('./resource/test_df_tweet_btc.plk')"
   ]
  }
 ],
 "metadata": {
  "kernelspec": {
   "display_name": "Python 3.7.9 64-bit ('base': conda)",
   "metadata": {
    "interpreter": {
     "hash": "dc915809d01d10af75de0e26de7e23a3fd3439002c76421ad1347f8418fd1ee7"
    }
   },
   "name": "python3"
  },
  "language_info": {
   "codemirror_mode": {
    "name": "ipython",
    "version": 3
   },
   "file_extension": ".py",
   "mimetype": "text/x-python",
   "name": "python",
   "nbconvert_exporter": "python",
   "pygments_lexer": "ipython3",
   "version": "3.7.9"
  },
  "orig_nbformat": 2
 },
 "nbformat": 4,
 "nbformat_minor": 2
}